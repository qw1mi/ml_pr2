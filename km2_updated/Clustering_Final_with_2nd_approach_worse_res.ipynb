{
 "cells": [
  {
   "cell_type": "code",
   "execution_count": 1,
   "metadata": {},
   "outputs": [],
   "source": [
    "# Import necessary libraries\n",
    "import numpy as np\n",
    "import pandas as pd\n",
    "import seaborn as sns\n",
    "import matplotlib.pyplot as plt\n",
    "from mpl_toolkits.mplot3d import Axes3D\n",
    "from sklearn.preprocessing import StandardScaler\n",
    "from sklearn.cluster import KMeans, AgglomerativeClustering,DBSCAN\n",
    "from sklearn.mixture import GaussianMixture\n",
    "from sklearn.metrics import silhouette_score\n",
    "from sklearn.decomposition import PCA\n",
    "from sklearn.model_selection import ParameterGrid\n",
    "import warnings\n",
    "from sklearn.model_selection import train_test_split\n",
    "from first_approach import preprocess_data\n",
    "from second_approach import processed_df\n",
    "np.random.seed(42)\n",
    "warnings.filterwarnings('ignore')\n"
   ]
  },
  {
   "cell_type": "markdown",
   "metadata": {},
   "source": [
    "# Clustering Algorithms with Hyperparameter Research and 3D Visualization"
   ]
  },
  {
   "cell_type": "code",
   "execution_count": 5,
   "metadata": {},
   "outputs": [
    {
     "name": "stdout",
     "output_type": "stream",
     "text": [
      "Dataset Info:\n",
      "<class 'pandas.core.frame.DataFrame'>\n",
      "RangeIndex: 9864 entries, 0 to 9863\n",
      "Data columns (total 13 columns):\n",
      " #   Column                   Non-Null Count  Dtype  \n",
      "---  ------                   --------------  -----  \n",
      " 0   Administrative           9864 non-null   float64\n",
      " 1   Administrative_Duration  9864 non-null   float64\n",
      " 2   ProductRelated           9864 non-null   float64\n",
      " 3   ProductRelated_Duration  9864 non-null   float64\n",
      " 4   ExitRates                9864 non-null   float64\n",
      " 5   Month                    9864 non-null   float64\n",
      " 6   OperatingSystems         9864 non-null   float64\n",
      " 7   Browser                  9864 non-null   float64\n",
      " 8   Region                   9864 non-null   float64\n",
      " 9   TrafficType              9864 non-null   float64\n",
      " 10  VisitorType              9864 non-null   float64\n",
      " 11  Weekend                  9864 non-null   float64\n",
      " 12  Revenue                  9864 non-null   float64\n",
      "dtypes: float64(13)\n",
      "memory usage: 1001.9 KB\n",
      "None\n",
      "\n",
      "Dataset Description:\n",
      "       Administrative  Administrative_Duration  ProductRelated  \\\n",
      "count     9864.000000              9864.000000     9864.000000   \n",
      "mean        -0.004151                -0.085438       -0.060972   \n",
      "std          0.978997                 0.576028        0.703996   \n",
      "min         -0.698469                -0.456937       -0.712218   \n",
      "25%         -0.698469                -0.456937       -0.555129   \n",
      "50%         -0.395159                -0.411867       -0.308274   \n",
      "75%          0.514773                 0.061367        0.118110   \n",
      "max          4.154501                 1.616279        2.137827   \n",
      "\n",
      "       ProductRelated_Duration    ExitRates         Month  OperatingSystems  \\\n",
      "count              9864.000000  9864.000000  9.864000e+03       9864.000000   \n",
      "mean                 -0.055221    -0.050202  2.456470e-16         -0.015484   \n",
      "std                   0.676577     0.844394  1.000051e+00          0.913472   \n",
      "min                  -0.622722    -0.890820 -1.674193e+00         -1.231837   \n",
      "25%                  -0.525985    -0.592181 -7.889640e-01         -0.133009   \n",
      "50%                  -0.309345    -0.368202  9.626474e-02         -0.133009   \n",
      "75%                   0.142432     0.154416  9.814935e-01          0.965819   \n",
      "max                   2.147681     2.394208  1.276570e+00          4.262302   \n",
      "\n",
      "            Browser        Region  TrafficType   VisitorType       Weekend  \\\n",
      "count  9.864000e+03  9.864000e+03  9864.000000  9.864000e+03  9.864000e+03   \n",
      "mean  -2.086512e-01  3.290488e-16    -0.099655  4.005258e-01 -5.432937e-01   \n",
      "std    5.357098e-14  1.000051e+00     0.738144  5.029565e-14  6.384106e-14   \n",
      "min   -2.086512e-01 -8.931468e-01    -0.762078  4.005258e-01 -5.432937e-01   \n",
      "25%   -2.086512e-01 -8.931468e-01    -0.514160  4.005258e-01 -5.432937e-01   \n",
      "50%   -2.086512e-01 -6.404836e-02    -0.514160  4.005258e-01 -5.432937e-01   \n",
      "75%   -2.086512e-01  3.505009e-01    -0.018322  4.005258e-01 -5.432937e-01   \n",
      "max   -2.086512e-01  2.423247e+00     1.469189  4.005258e-01 -5.432937e-01   \n",
      "\n",
      "            Revenue  \n",
      "count  9.864000e+03  \n",
      "mean  -4.229860e-01  \n",
      "std    6.195359e-14  \n",
      "min   -4.229860e-01  \n",
      "25%   -4.229860e-01  \n",
      "50%   -4.229860e-01  \n",
      "75%   -4.229860e-01  \n",
      "max   -4.229860e-01  \n"
     ]
    }
   ],
   "source": [
    "data=processed_df\n",
    "train, test = train_test_split(\n",
    "   data, test_size=0.3, random_state=42\n",
    ") \n",
    "\n",
    "\n",
    "print(\"Dataset Info:\")\n",
    "print(data.info())\n",
    "print(\"\\nDataset Description:\")\n",
    "print(data.describe())"
   ]
  },
  {
   "cell_type": "code",
   "execution_count": null,
   "metadata": {},
   "outputs": [],
   "source": [
    "def apply_pca(data, n_components=3):\n",
    "    pca = PCA(n_components=n_components)\n",
    "    data_pca = pca.fit_transform(data)\n",
    "    return pd.DataFrame(data_pca, columns=[f'PC{i+1}' for i in range(n_components)])\n",
    "\n",
    "data_pca = apply_pca(train)"
   ]
  },
  {
   "cell_type": "markdown",
   "metadata": {},
   "source": [
    "## Data Preprocessing"
   ]
  },
  {
   "cell_type": "code",
   "execution_count": null,
   "metadata": {},
   "outputs": [],
   "source": [
    "def apply_pca(data, n_components=3):\n",
    "    pca = PCA(n_components=n_components)\n",
    "    data_pca = pca.fit_transform(data)\n",
    "    return pd.DataFrame(data_pca, columns=[f'PC{i+1}' for i in range(n_components)])\n",
    "\n",
    "data_pca = apply_pca(train)"
   ]
  },
  {
   "cell_type": "code",
   "execution_count": 7,
   "metadata": {},
   "outputs": [
    {
     "data": {
      "text/html": [
       "<div>\n",
       "<style scoped>\n",
       "    .dataframe tbody tr th:only-of-type {\n",
       "        vertical-align: middle;\n",
       "    }\n",
       "\n",
       "    .dataframe tbody tr th {\n",
       "        vertical-align: top;\n",
       "    }\n",
       "\n",
       "    .dataframe thead th {\n",
       "        text-align: right;\n",
       "    }\n",
       "</style>\n",
       "<table border=\"1\" class=\"dataframe\">\n",
       "  <thead>\n",
       "    <tr style=\"text-align: right;\">\n",
       "      <th></th>\n",
       "      <th>PC1</th>\n",
       "      <th>PC2</th>\n",
       "      <th>PC3</th>\n",
       "    </tr>\n",
       "  </thead>\n",
       "  <tbody>\n",
       "    <tr>\n",
       "      <th>0</th>\n",
       "      <td>-1.212880</td>\n",
       "      <td>-1.802703</td>\n",
       "      <td>0.711119</td>\n",
       "    </tr>\n",
       "    <tr>\n",
       "      <th>1</th>\n",
       "      <td>0.523544</td>\n",
       "      <td>0.760199</td>\n",
       "      <td>-0.848283</td>\n",
       "    </tr>\n",
       "    <tr>\n",
       "      <th>2</th>\n",
       "      <td>-0.688062</td>\n",
       "      <td>0.637907</td>\n",
       "      <td>-1.132569</td>\n",
       "    </tr>\n",
       "    <tr>\n",
       "      <th>3</th>\n",
       "      <td>-0.836235</td>\n",
       "      <td>-0.114541</td>\n",
       "      <td>-1.733480</td>\n",
       "    </tr>\n",
       "    <tr>\n",
       "      <th>4</th>\n",
       "      <td>0.671098</td>\n",
       "      <td>-1.245651</td>\n",
       "      <td>0.639613</td>\n",
       "    </tr>\n",
       "    <tr>\n",
       "      <th>...</th>\n",
       "      <td>...</td>\n",
       "      <td>...</td>\n",
       "      <td>...</td>\n",
       "    </tr>\n",
       "    <tr>\n",
       "      <th>6899</th>\n",
       "      <td>1.803100</td>\n",
       "      <td>1.372228</td>\n",
       "      <td>2.038628</td>\n",
       "    </tr>\n",
       "    <tr>\n",
       "      <th>6900</th>\n",
       "      <td>0.103510</td>\n",
       "      <td>-1.466053</td>\n",
       "      <td>0.832955</td>\n",
       "    </tr>\n",
       "    <tr>\n",
       "      <th>6901</th>\n",
       "      <td>-0.411104</td>\n",
       "      <td>-0.176370</td>\n",
       "      <td>-0.700667</td>\n",
       "    </tr>\n",
       "    <tr>\n",
       "      <th>6902</th>\n",
       "      <td>1.859598</td>\n",
       "      <td>0.016542</td>\n",
       "      <td>0.612038</td>\n",
       "    </tr>\n",
       "    <tr>\n",
       "      <th>6903</th>\n",
       "      <td>-0.907704</td>\n",
       "      <td>-0.717495</td>\n",
       "      <td>0.133988</td>\n",
       "    </tr>\n",
       "  </tbody>\n",
       "</table>\n",
       "<p>6904 rows × 3 columns</p>\n",
       "</div>"
      ],
      "text/plain": [
       "           PC1       PC2       PC3\n",
       "0    -1.212880 -1.802703  0.711119\n",
       "1     0.523544  0.760199 -0.848283\n",
       "2    -0.688062  0.637907 -1.132569\n",
       "3    -0.836235 -0.114541 -1.733480\n",
       "4     0.671098 -1.245651  0.639613\n",
       "...        ...       ...       ...\n",
       "6899  1.803100  1.372228  2.038628\n",
       "6900  0.103510 -1.466053  0.832955\n",
       "6901 -0.411104 -0.176370 -0.700667\n",
       "6902  1.859598  0.016542  0.612038\n",
       "6903 -0.907704 -0.717495  0.133988\n",
       "\n",
       "[6904 rows x 3 columns]"
      ]
     },
     "execution_count": 7,
     "metadata": {},
     "output_type": "execute_result"
    }
   ],
   "source": [
    "data_pca"
   ]
  },
  {
   "cell_type": "markdown",
   "metadata": {},
   "source": [
    "## Hyperparameter Research\n"
   ]
  },
  {
   "cell_type": "code",
   "execution_count": 8,
   "metadata": {},
   "outputs": [],
   "source": [
    "\n",
    "def evaluate_clustering(data, labels):\n",
    "    score = silhouette_score(data, labels)\n",
    "    return score\n",
    "\n",
    "\n",
    "def kmeans_hyperparameter_research(data, param_grid):\n",
    "    best_score = -1\n",
    "    best_params = None\n",
    "    for params in ParameterGrid(param_grid):\n",
    "        kmeans = KMeans(**params, random_state=42)\n",
    "        labels = kmeans.fit_predict(data)\n",
    "        score = evaluate_clustering(data, labels)\n",
    "        if score > best_score:\n",
    "            best_score = score\n",
    "            best_params = params\n",
    "    return best_params, best_score\n",
    "\n",
    "\n",
    "def hierarchical_hyperparameter_research(data, param_grid):\n",
    "    best_score = -1\n",
    "    best_params = None\n",
    "    for params in ParameterGrid(param_grid):\n",
    "        agg_clustering = AgglomerativeClustering(**params)\n",
    "        labels = agg_clustering.fit_predict(data)\n",
    "        score = evaluate_clustering(data, labels)\n",
    "        if score > best_score:\n",
    "            best_score = score\n",
    "            best_params = params\n",
    "    return best_params, best_score\n",
    "\n",
    "\n",
    "def gmm_hyperparameter_research(data, param_grid):\n",
    "    best_score = -1\n",
    "    best_params = None\n",
    "    for params in ParameterGrid(param_grid):\n",
    "        gmm = GaussianMixture(**params, random_state=42)\n",
    "        labels = gmm.fit_predict(data)\n",
    "        score = evaluate_clustering(data, labels)\n",
    "        if score > best_score:\n",
    "            best_score = score\n",
    "            best_params = params\n",
    "    return best_params, best_score\n",
    "\n",
    "def dbscan_hyperparameter_research(data, param_grid):\n",
    "    best_score = -1\n",
    "    best_params = None\n",
    "    for params in ParameterGrid(param_grid):\n",
    "        dbscan = DBSCAN(**params)\n",
    "        labels = dbscan.fit_predict(data)\n",
    "        # Silhouette score requires at least 2 clusters\n",
    "        if len(set(labels)) > 1:\n",
    "            score = evaluate_clustering(data, labels)\n",
    "            if score > best_score:\n",
    "                best_score = score\n",
    "                best_params = params\n",
    "    return best_params, best_score"
   ]
  },
  {
   "cell_type": "code",
   "execution_count": 9,
   "metadata": {},
   "outputs": [],
   "source": [
    "\n",
    "kmeans_param_grid = {\n",
    "    'n_clusters': [2, 3, 4, 5],\n",
    "    'init': ['k-means++', 'random'],\n",
    "    'n_init': [10, 20],\n",
    "    'max_iter': [300, 600]\n",
    "}\n",
    "\n",
    "hierarchical_param_grid = {\n",
    "    'n_clusters': [2, 3, 4, 5],\n",
    "    'linkage': ['ward', 'complete', 'average', 'single']\n",
    "}\n",
    "\n",
    "gmm_param_grid = {\n",
    "    'n_components': [2, 3, 4, 5],\n",
    "    'covariance_type': ['full', 'tied', 'diag', 'spherical']\n",
    "}\n",
    "\n",
    "dbscan_param_grid = {\n",
    "    'eps': [0.3, 0.5, 0.7],\n",
    "    'min_samples': [5, 10, 15]\n",
    "}"
   ]
  },
  {
   "cell_type": "code",
   "execution_count": 10,
   "metadata": {},
   "outputs": [
    {
     "name": "stdout",
     "output_type": "stream",
     "text": [
      "\n",
      "K-Means Hyperparameter Research:\n"
     ]
    },
    {
     "name": "stderr",
     "output_type": "stream",
     "text": [
      "  File \"c:\\anaconda\\lib\\site-packages\\joblib\\externals\\loky\\backend\\context.py\", line 217, in _count_physical_cores\n",
      "    raise ValueError(\n"
     ]
    },
    {
     "name": "stdout",
     "output_type": "stream",
     "text": [
      "Best K-Means Params: {'init': 'random', 'max_iter': 300, 'n_clusters': 4, 'n_init': 10}, Best Score: 0.34\n"
     ]
    }
   ],
   "source": [
    "print(\"\\nK-Means Hyperparameter Research:\")\n",
    "best_kmeans_params, best_kmeans_score = kmeans_hyperparameter_research(data_pca, kmeans_param_grid)\n",
    "print(f\"Best K-Means Params: {best_kmeans_params}, Best Score: {best_kmeans_score:.2f}\")"
   ]
  },
  {
   "cell_type": "code",
   "execution_count": 11,
   "metadata": {},
   "outputs": [
    {
     "name": "stdout",
     "output_type": "stream",
     "text": [
      "\n",
      "Hierarchical Clustering Hyperparameter Research:\n",
      "Best Hierarchical Params: {'linkage': 'single', 'n_clusters': 2}, Best Score: 0.54\n"
     ]
    }
   ],
   "source": [
    "print(\"\\nHierarchical Clustering Hyperparameter Research:\")\n",
    "best_hierarchical_params, best_hierarchical_score = hierarchical_hyperparameter_research(data_pca, hierarchical_param_grid)\n",
    "print(f\"Best Hierarchical Params: {best_hierarchical_params}, Best Score: {best_hierarchical_score:.2f}\")"
   ]
  },
  {
   "cell_type": "code",
   "execution_count": 12,
   "metadata": {},
   "outputs": [
    {
     "name": "stdout",
     "output_type": "stream",
     "text": [
      "\n",
      "GMM Hyperparameter Research:\n",
      "Best GMM Params: {'covariance_type': 'spherical', 'n_components': 2}, Best Score: 0.37\n"
     ]
    }
   ],
   "source": [
    "\n",
    "print(\"\\nGMM Hyperparameter Research:\")\n",
    "best_gmm_params, best_gmm_score = gmm_hyperparameter_research(data_pca, gmm_param_grid)\n",
    "print(f\"Best GMM Params: {best_gmm_params}, Best Score: {best_gmm_score:.2f}\")\n"
   ]
  },
  {
   "cell_type": "code",
   "execution_count": 13,
   "metadata": {},
   "outputs": [
    {
     "name": "stdout",
     "output_type": "stream",
     "text": [
      "\n",
      "DBSCAN Hyperparameter Research:\n",
      "Best DBSCAN Params: {'eps': 0.7, 'min_samples': 5}, Best Score: 0.44\n"
     ]
    }
   ],
   "source": [
    "print(\"\\nDBSCAN Hyperparameter Research:\")\n",
    "best_dbscan_params, best_dbscan_score = dbscan_hyperparameter_research(data_pca, dbscan_param_grid)\n",
    "print(f\"Best DBSCAN Params: {best_dbscan_params}, Best Score: {best_dbscan_score:.2f}\")"
   ]
  },
  {
   "cell_type": "code",
   "execution_count": 14,
   "metadata": {},
   "outputs": [
    {
     "name": "stdout",
     "output_type": "stream",
     "text": [
      "\n",
      "K-Means Hyperparameter Research:\n",
      "Best K-Means Params: {'init': 'random', 'max_iter': 300, 'n_clusters': 2, 'n_init': 10}, Best Score: 0.39\n",
      "\n",
      "Hierarchical Clustering Hyperparameter Research:\n",
      "Best Hierarchical Params: {'linkage': 'single', 'n_clusters': 2}, Best Score: 0.50\n",
      "\n",
      "GMM Hyperparameter Research:\n",
      "Best GMM Params: {'covariance_type': 'tied', 'n_components': 2}, Best Score: 0.45\n",
      "\n",
      "DBSCAN Hyperparameter Research:\n",
      "Best DBSCAN Params: {'eps': 0.5, 'min_samples': 15}, Best Score: 0.55\n"
     ]
    }
   ],
   "source": [
    "data=processed_df\n",
    "train, test = train_test_split(\n",
    "   data, test_size=0.3, random_state=42\n",
    ") \n",
    "def apply_pca(data, n_components=2):\n",
    "    pca = PCA(n_components=n_components)\n",
    "    data_pca = pca.fit_transform(data)\n",
    "    return pd.DataFrame(data_pca, columns=[f'PC{i+1}' for i in range(n_components)])\n",
    "\n",
    "data_pca = apply_pca(train)\n",
    "\n",
    "print(\"\\nK-Means Hyperparameter Research:\")\n",
    "best_kmeans_params, best_kmeans_score = kmeans_hyperparameter_research(data_pca, kmeans_param_grid)\n",
    "print(f\"Best K-Means Params: {best_kmeans_params}, Best Score: {best_kmeans_score:.2f}\")\n",
    "\n",
    "print(\"\\nHierarchical Clustering Hyperparameter Research:\")\n",
    "best_hierarchical_params, best_hierarchical_score = hierarchical_hyperparameter_research(data_pca, hierarchical_param_grid)\n",
    "print(f\"Best Hierarchical Params: {best_hierarchical_params}, Best Score: {best_hierarchical_score:.2f}\")\n",
    "\n",
    "print(\"\\nGMM Hyperparameter Research:\")\n",
    "best_gmm_params, best_gmm_score = gmm_hyperparameter_research(data_pca, gmm_param_grid)\n",
    "print(f\"Best GMM Params: {best_gmm_params}, Best Score: {best_gmm_score:.2f}\")\n",
    "\n",
    "print(\"\\nDBSCAN Hyperparameter Research:\")\n",
    "best_dbscan_params, best_dbscan_score = dbscan_hyperparameter_research(data_pca, dbscan_param_grid)\n",
    "print(f\"Best DBSCAN Params: {best_dbscan_params}, Best Score: {best_dbscan_score:.2f}\")"
   ]
  }
 ],
 "metadata": {
  "kernelspec": {
   "display_name": "base",
   "language": "python",
   "name": "python3"
  },
  "language_info": {
   "codemirror_mode": {
    "name": "ipython",
    "version": 3
   },
   "file_extension": ".py",
   "mimetype": "text/x-python",
   "name": "python",
   "nbconvert_exporter": "python",
   "pygments_lexer": "ipython3",
   "version": "3.9.19"
  }
 },
 "nbformat": 4,
 "nbformat_minor": 2
}
