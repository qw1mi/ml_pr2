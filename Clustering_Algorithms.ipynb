{
 "cells": [
  {
   "cell_type": "code",
   "execution_count": null,
   "id": "41f68d2e",
   "metadata": {},
   "outputs": [],
   "source": [
    "\n",
    "import pandas as pd\n",
    "import numpy as np\n",
    "from sklearn.cluster import KMeans, AgglomerativeClustering, DBSCAN\n",
    "from sklearn.preprocessing import StandardScaler\n",
    "import matplotlib.pyplot as plt\n",
    "import seaborn as sns\n"
   ]
  },
  {
   "cell_type": "markdown",
   "id": "8ff53cf4",
   "metadata": {},
   "source": [
    "# Data Loading"
   ]
  },
  {
   "cell_type": "code",
   "execution_count": null,
   "id": "4b8bdd31",
   "metadata": {},
   "outputs": [],
   "source": [
    "\n",
    "data = pd.read_csv('data/data.csv')\n"
   ]
  },
  {
   "cell_type": "markdown",
   "id": "00af34f5",
   "metadata": {},
   "source": [
    "# Data Preparation"
   ]
  },
  {
   "cell_type": "code",
   "execution_count": null,
   "id": "3e4ea54e",
   "metadata": {},
   "outputs": [],
   "source": [
    "\n",
    "# Select numerical columns for clustering\n",
    "numerical_cols = data.select_dtypes(include=[np.number]).columns.tolist()\n",
    "data_num = data[numerical_cols]\n",
    "\n",
    "# Standardize the data\n",
    "scaler = StandardScaler()\n",
    "data_scaled = scaler.fit_transform(data_num)\n"
   ]
  },
  {
   "cell_type": "markdown",
   "id": "82984a06",
   "metadata": {},
   "source": [
    "# K-Means Clustering"
   ]
  },
  {
   "cell_type": "code",
   "execution_count": null,
   "id": "40cbb655",
   "metadata": {},
   "outputs": [],
   "source": [
    "\n",
    "# Apply K-Means clustering\n",
    "kmeans = KMeans(n_clusters=3, random_state=42)\n",
    "clusters_kmeans = kmeans.fit_predict(data_scaled)\n",
    "\n",
    "# Add cluster labels to the dataset\n",
    "data['Cluster_KMeans'] = clusters_kmeans\n"
   ]
  },
  {
   "cell_type": "markdown",
   "id": "0105be88",
   "metadata": {},
   "source": [
    "# Hierarchical Clustering"
   ]
  },
  {
   "cell_type": "code",
   "execution_count": null,
   "id": "31118875",
   "metadata": {},
   "outputs": [],
   "source": [
    "\n",
    "# Apply Hierarchical clustering\n",
    "hierarchical = AgglomerativeClustering(n_clusters=3)\n",
    "clusters_hierarchical = hierarchical.fit_predict(data_scaled)\n",
    "\n",
    "# Add cluster labels to the dataset\n",
    "data['Cluster_Hierarchical'] = clusters_hierarchical\n"
   ]
  },
  {
   "cell_type": "markdown",
   "id": "c4b924b5",
   "metadata": {},
   "source": [
    "# DBSCAN Clustering"
   ]
  },
  {
   "cell_type": "code",
   "execution_count": null,
   "id": "a888fbc7",
   "metadata": {},
   "outputs": [],
   "source": [
    "\n",
    "# Apply DBSCAN clustering\n",
    "dbscan = DBSCAN(eps=0.5, min_samples=5)\n",
    "clusters_dbscan = dbscan.fit_predict(data_scaled)\n",
    "\n",
    "# Add cluster labels to the dataset\n",
    "data['Cluster_DBSCAN'] = clusters_dbscan\n"
   ]
  },
  {
   "cell_type": "markdown",
   "id": "089c22c6",
   "metadata": {},
   "source": [
    "# Cluster Visualization"
   ]
  },
  {
   "cell_type": "code",
   "execution_count": null,
   "id": "74c59d4b",
   "metadata": {},
   "outputs": [],
   "source": [
    "\n",
    "# Visualization of the clusters\n",
    "sns.pairplot(data, hue='Cluster_KMeans', vars=numerical_cols[:4])\n",
    "plt.show()\n"
   ]
  }
 ],
 "metadata": {},
 "nbformat": 4,
 "nbformat_minor": 5
}
